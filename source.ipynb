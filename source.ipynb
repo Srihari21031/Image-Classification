{
  "nbformat": 4,
  "nbformat_minor": 0,
  "metadata": {
    "colab": {
      "provenance": []
    },
    "kernelspec": {
      "name": "python3",
      "display_name": "Python 3"
    },
    "language_info": {
      "name": "python"
    }
  },
  "cells": [
    {
      "cell_type": "markdown",
      "source": [
        "# CODE TO CLASSIFY IMAGES (CIFAR-10) USING CNNs"
      ],
      "metadata": {
        "id": "rUBwtvZPofaK"
      }
    },
    {
      "cell_type": "markdown",
      "source": [
        "# STEP 0: PROBLEM STATEMENT"
      ],
      "metadata": {
        "id": "M6zR1TffoxLR"
      }
    },
    {
      "cell_type": "markdown",
      "source": [
        "- CIFAR-10 is a dataset that consists of several images divided into the following 10 classes:\n",
        "    - Airplanes\n",
        "    - Cars\n",
        "    - Birds\n",
        "    - Cats\n",
        "    - Deer\n",
        "    - Dogs\n",
        "    - Frogs\n",
        "    - Horses\n",
        "    - Ships\n",
        "    - Trucks\n",
        "\n",
        "- The dataset stands for the Canadian Institute For Advanced Research (CIFAR)\n",
        "- CIFAR-10 is widely used for machine learning and computer vision applications.\n",
        "- The dataset consists of 60,000 32x32 color images and 6,000 images of each class.\n",
        "- Images have low resolution (32x32).\n",
        "- Data Source: https://www.cs.toronto.edu/~kriz/cifar.html"
      ],
      "metadata": {
        "id": "fP2iEKvcorWp"
      }
    },
    {
      "cell_type": "markdown",
      "source": [
        "# STEP #1: IMPORT LIBRARIES/DATASETS"
      ],
      "metadata": {
        "id": "T45CLU_jo50w"
      }
    },
    {
      "cell_type": "code",
      "execution_count": null,
      "metadata": {
        "id": "A2kfW99RoXc5"
      },
      "outputs": [],
      "source": [
        "import pandas as pd\n",
        "import numpy as np\n",
        "import matplotlib.pyplot as plt\n",
        "import seaborn"
      ]
    },
    {
      "cell_type": "code",
      "source": [
        "from keras.datasets import cifar10\n",
        "(X_train, y_train) , (X_test, y_test) = cifar10.load_data()"
      ],
      "metadata": {
        "id": "wrjTkiq0pAQC"
      },
      "execution_count": null,
      "outputs": []
    },
    {
      "cell_type": "code",
      "source": [
        "X_train.shape"
      ],
      "metadata": {
        "id": "o3sEsey5pCTB"
      },
      "execution_count": null,
      "outputs": []
    },
    {
      "cell_type": "code",
      "source": [
        "X_test.shape"
      ],
      "metadata": {
        "id": "-mgk7OTYpEry"
      },
      "execution_count": null,
      "outputs": []
    },
    {
      "cell_type": "code",
      "source": [
        "y_train.shape"
      ],
      "metadata": {
        "id": "vIFaDnv8pHp5"
      },
      "execution_count": null,
      "outputs": []
    },
    {
      "cell_type": "code",
      "source": [
        "y_test.shape"
      ],
      "metadata": {
        "id": "K6KEV8nPpJe5"
      },
      "execution_count": null,
      "outputs": []
    },
    {
      "cell_type": "markdown",
      "source": [
        "# STEP #2: VISUALIZE DATA"
      ],
      "metadata": {
        "id": "JMBEUuqWpLzZ"
      }
    },
    {
      "cell_type": "code",
      "source": [
        "i = 3000\n",
        "plt.imshow(X_train[i])\n",
        "print(y_train[i])"
      ],
      "metadata": {
        "id": "QyqmAGbPpPaB"
      },
      "execution_count": null,
      "outputs": []
    },
    {
      "cell_type": "code",
      "source": [
        "W_grid = 4\n",
        "L_grid = 4\n",
        "\n",
        "fig, axes = plt.subplots(L_grid, W_grid, figsize = (25, 25))\n",
        "axes = axes.ravel()\n",
        "\n",
        "n_training = len(X_train)\n",
        "\n",
        "for i in np.arange(0, L_grid * W_grid):\n",
        "    index = np.random.randint(0, n_training) # pick a random number\n",
        "    axes[i].imshow(X_train[index])\n",
        "    axes[i].set_title(y_train[index])\n",
        "    axes[i].axis('off')\n",
        ""
      ],
      "metadata": {
        "id": "hWahZpK3pTFJ"
      },
      "execution_count": null,
      "outputs": []
    },
    {
      "cell_type": "code",
      "source": [
        "n_training"
      ],
      "metadata": {
        "id": "ZW_4m_7HpVqZ"
      },
      "execution_count": null,
      "outputs": []
    },
    {
      "cell_type": "code",
      "source": [],
      "metadata": {
        "id": "NFih6McCpYrh"
      },
      "execution_count": null,
      "outputs": []
    },
    {
      "cell_type": "markdown",
      "source": [
        "# STEP #3: DATA PREPARATION"
      ],
      "metadata": {
        "id": "T3MsnHkXpZoY"
      }
    },
    {
      "cell_type": "code",
      "source": [
        "X_train = X_train.astype('float32')\n",
        "X_test = X_test.astype('float32')"
      ],
      "metadata": {
        "id": "BlyiyJMFpd4g"
      },
      "execution_count": null,
      "outputs": []
    },
    {
      "cell_type": "code",
      "source": [
        "number_cat = 10"
      ],
      "metadata": {
        "id": "-DcNOwJkpj1p"
      },
      "execution_count": null,
      "outputs": []
    },
    {
      "cell_type": "code",
      "source": [
        "y_train"
      ],
      "metadata": {
        "id": "Wm1HpeQYplpR"
      },
      "execution_count": null,
      "outputs": []
    },
    {
      "cell_type": "code",
      "source": [
        "import keras"
      ],
      "metadata": {
        "id": "55YaZV70prUx"
      },
      "execution_count": null,
      "outputs": []
    },
    {
      "cell_type": "code",
      "source": [
        "y_train"
      ],
      "metadata": {
        "id": "ZVZzOh0gpub5"
      },
      "execution_count": null,
      "outputs": []
    },
    {
      "cell_type": "code",
      "source": [
        "y_test = keras.utils.to_categorical(y_test, number_cat)"
      ],
      "metadata": {
        "id": "j3FubJctpw6I"
      },
      "execution_count": null,
      "outputs": []
    },
    {
      "cell_type": "code",
      "source": [
        "y_test"
      ],
      "metadata": {
        "id": "lZE5HtkQpzwQ"
      },
      "execution_count": null,
      "outputs": []
    },
    {
      "cell_type": "code",
      "source": [
        "X_train = X_train/255\n",
        "X_test = X_test/255"
      ],
      "metadata": {
        "id": "TbzECbrsp29A"
      },
      "execution_count": null,
      "outputs": []
    },
    {
      "cell_type": "code",
      "source": [
        "X_train"
      ],
      "metadata": {
        "id": "9NNVAT3cp6Cp"
      },
      "execution_count": null,
      "outputs": []
    },
    {
      "cell_type": "code",
      "source": [
        "X_train.shape"
      ],
      "metadata": {
        "id": "Mf_pE3P5p83D"
      },
      "execution_count": null,
      "outputs": []
    },
    {
      "cell_type": "code",
      "source": [
        "Input_shape = X_train.shape[1:]"
      ],
      "metadata": {
        "id": "QrDVfxDUp-oZ"
      },
      "execution_count": null,
      "outputs": []
    },
    {
      "cell_type": "code",
      "source": [
        "Input_shape"
      ],
      "metadata": {
        "id": "2g51rMvEqAiM"
      },
      "execution_count": null,
      "outputs": []
    },
    {
      "cell_type": "markdown",
      "source": [
        "# STEP #4: TRAIN THE MODEL"
      ],
      "metadata": {
        "id": "3zG2E0aEqEHa"
      }
    },
    {
      "cell_type": "code",
      "source": [
        "from keras.models import Sequential\n",
        "from keras.layers import Conv2D, MaxPooling2D, AveragePooling2D, Dense, Flatten, Dropout\n",
        "from keras.optimizers import Adam\n",
        "from keras.callbacks import TensorBoard\n",
        "from keras.optimizers import RMSprop"
      ],
      "metadata": {
        "id": "hzw8ysbaqKDJ"
      },
      "execution_count": null,
      "outputs": []
    },
    {
      "cell_type": "code",
      "source": [
        "from keras.models import Sequential\n",
        "from keras.layers import Conv2D, MaxPooling2D, Dropout, Flatten, Dense\n",
        "from keras.optimizers import RMSprop\n",
        "\n",
        "cnn_model = Sequential()\n",
        "cnn_model.add(Conv2D(filters=64, kernel_size=(3, 3), activation='relu', input_shape=Input_shape))\n",
        "cnn_model.add(Conv2D(filters=64, kernel_size=(3, 3), activation='relu'))\n",
        "cnn_model.add(MaxPooling2D(2, 2))\n",
        "cnn_model.add(Dropout(0.4))\n",
        "\n",
        "cnn_model.add(Conv2D(filters=128, kernel_size=(3, 3), activation='relu'))\n",
        "cnn_model.add(Conv2D(filters=128, kernel_size=(3, 3), activation='relu'))\n",
        "cnn_model.add(MaxPooling2D(2, 2))\n",
        "cnn_model.add(Dropout(0.4))\n",
        "\n",
        "cnn_model.add(Flatten())\n",
        "\n",
        "cnn_model.add(Dense(units=1024, activation='relu'))\n",
        "cnn_model.add(Dense(units=1024, activation='relu'))\n",
        "cnn_model.add(Dense(units=10, activation='softmax'))\n",
        "\n",
        "optimizer = RMSprop(learning_rate=0.001)\n",
        "cnn_model.compile(loss='categorical_crossentropy', optimizer=optimizer, metrics=['accuracy'])"
      ],
      "metadata": {
        "id": "BN0sH1AFqNcB"
      },
      "execution_count": null,
      "outputs": []
    },
    {
      "cell_type": "code",
      "source": [
        "history = cnn_model.fit(X_train, y_train, batch_size = 32, epochs = 1, shuffle = True)"
      ],
      "metadata": {
        "id": "txRTsUgYqQJa"
      },
      "execution_count": null,
      "outputs": []
    },
    {
      "cell_type": "markdown",
      "source": [
        "# STEP #5: EVALUATE THE MODEL"
      ],
      "metadata": {
        "id": "KfSy_m9JqToB"
      }
    },
    {
      "cell_type": "code",
      "source": [
        "evaluation = cnn_model.evaluate(X_test, y_test)\n",
        "print('Test Accuracy: {}'.format(evaluation[1]))"
      ],
      "metadata": {
        "id": "Iz_ZdMihqYAR"
      },
      "execution_count": null,
      "outputs": []
    },
    {
      "cell_type": "code",
      "source": [
        "predicted_classes = np.argmax(cnn_model.predict(X_test), axis=-1)\n",
        "predicted_classes"
      ],
      "metadata": {
        "id": "jUkzHUSFqZxx"
      },
      "execution_count": null,
      "outputs": []
    },
    {
      "cell_type": "code",
      "source": [
        "y_test"
      ],
      "metadata": {
        "id": "GYY2QgQJqbsC"
      },
      "execution_count": null,
      "outputs": []
    },
    {
      "cell_type": "code",
      "source": [
        "y_test = y_test.argmax(1)"
      ],
      "metadata": {
        "id": "1_w4iSjQqcfY"
      },
      "execution_count": null,
      "outputs": []
    },
    {
      "cell_type": "code",
      "source": [
        "y_test"
      ],
      "metadata": {
        "id": "831BIFrUqgRK"
      },
      "execution_count": null,
      "outputs": []
    },
    {
      "cell_type": "code",
      "source": [
        "L = 7\n",
        "W = 7\n",
        "fig, axes = plt.subplots(L, W, figsize = (12, 12))\n",
        "axes = axes.ravel()\n",
        "\n",
        "for i in np.arange(0, L*W):\n",
        "    axes[i].imshow(X_test[i])\n",
        "    axes[i].set_title('Prediction = {}\\n True = {}'.format(predicted_classes[i], y_test[i]))\n",
        "    axes[i].axis('off')\n",
        "\n",
        "plt.subplots_adjust(wspace = 1)"
      ],
      "metadata": {
        "id": "UQOdt9iwqiR5"
      },
      "execution_count": null,
      "outputs": []
    },
    {
      "cell_type": "code",
      "source": [
        "from sklearn.metrics import confusion_matrix\n",
        "import seaborn as sns\n",
        "\n",
        "cm = confusion_matrix(y_test, predicted_classes)\n",
        "cm\n",
        "plt.figure(figsize = (10, 10))\n",
        "sns.heatmap(cm, annot = True)"
      ],
      "metadata": {
        "id": "q2aEx5WpqkH5"
      },
      "execution_count": null,
      "outputs": []
    },
    {
      "cell_type": "markdown",
      "source": [
        "# STEP #6: SAVING THE MODEL"
      ],
      "metadata": {
        "id": "N9jrGH4JqrTa"
      }
    },
    {
      "cell_type": "code",
      "source": [
        "import os\n",
        "directory = os.path.join(os.getcwd(), 'saved_models')\n",
        "\n",
        "if not os.path.isdir(directory):\n",
        "    os.makedirs(directory)\n",
        "model_path = os.path.join(directory, 'keras_cifar10_trained_model.h5')\n",
        "cnn_model.save(model_path)"
      ],
      "metadata": {
        "id": "G5xSWT3wqsDJ"
      },
      "execution_count": null,
      "outputs": []
    },
    {
      "cell_type": "markdown",
      "source": [
        "# STEP #7: IMPROVING THE MODEL WITH DATA AUGMENTATION"
      ],
      "metadata": {
        "id": "eE6VN68nqyxy"
      }
    },
    {
      "cell_type": "markdown",
      "source": [
        "- Image Augmentation is the process of artificially increasing the variations of the images in the datasets by flipping, enlarging, rotating the original images.\n",
        "- Augmentations also include shifting and changing the brightness of the images."
      ],
      "metadata": {
        "id": "hxQ1RY56q4D5"
      }
    },
    {
      "cell_type": "markdown",
      "source": [
        "# STEP 7.1 MODEL TRAINING USING AUGEMENTED DATASET"
      ],
      "metadata": {
        "id": "HmEvRK02q7JR"
      }
    },
    {
      "cell_type": "code",
      "source": [
        "from keras.preprocessing.image import ImageDataGenerator\n",
        "\n",
        "datagen = ImageDataGenerator(\n",
        "                            rotation_range = 90,\n",
        "                            width_shift_range = 0.1,\n",
        "                            horizontal_flip = True,\n",
        "                            vertical_flip = True\n",
        "                             )"
      ],
      "metadata": {
        "id": "VLZ51uMyrA2J"
      },
      "execution_count": null,
      "outputs": []
    },
    {
      "cell_type": "code",
      "source": [
        "datagen.fit(X_train)"
      ],
      "metadata": {
        "id": "yCP9zxASrDqZ"
      },
      "execution_count": null,
      "outputs": []
    },
    {
      "cell_type": "code",
      "source": [
        "cnn_model.fit_generator(datagen.flow(X_train, y_train, batch_size = 32), epochs = 2)"
      ],
      "metadata": {
        "id": "cLFc_hENrFoS"
      },
      "execution_count": null,
      "outputs": []
    },
    {
      "cell_type": "code",
      "source": [
        "score = cnn_model.evaluate(X_test, y_test)\n",
        "print('Test Accuracy: {}'.format(score[1]))"
      ],
      "metadata": {
        "id": "6T4EfBe1rHmR"
      },
      "execution_count": null,
      "outputs": []
    },
    {
      "cell_type": "code",
      "source": [
        "# save the model\n",
        "directory = os.path.join(os.getcwd(), 'saved_models')\n",
        "\n",
        "if not os.path.isdir(directory):\n",
        "    os.makedirs(directory)\n",
        "model_path = os.path.join(directory, 'keras_cifar10_trained_model_Augmentation.h5')\n",
        "cnn_model.save(model_path)"
      ],
      "metadata": {
        "id": "--3lYJbhrJUp"
      },
      "execution_count": null,
      "outputs": []
    }
  ]
}